{
 "cells": [
  {
   "cell_type": "markdown",
   "id": "f337ef1f",
   "metadata": {},
   "source": [
    "## Kunskapskontroll Frida Kilby"
   ]
  },
  {
   "cell_type": "markdown",
   "id": "96d67f51",
   "metadata": {},
   "source": [
    "1. Importera biblioteken"
   ]
  },
  {
   "cell_type": "code",
   "execution_count": 371,
   "id": "81f25db3",
   "metadata": {},
   "outputs": [],
   "source": [
    "from sqlalchemy import create_engine, Table, inspect\n",
    "import pandas as pd\n",
    "import scipy.stats as stats\n",
    "import numpy as np\n",
    "import matplotlib.pyplot as plt"
   ]
  },
  {
   "cell_type": "code",
   "execution_count": 301,
   "id": "b743c161",
   "metadata": {},
   "outputs": [],
   "source": [
    "def new_engine(dialect, server, database, user=None, password=None, integrated_security=True):\n",
    "    if integrated_security:\n",
    "        # when windows authentication\n",
    "        eng = f\"{dialect}://{server}/{database}?trusted_connection=yes&driver=ODBC+Driver+17+for+SQL+Server\"\n",
    "    else:\n",
    "        # when SQL server authentication\n",
    "        eng = f\"{dialect}://{user}:{password}@{server}/{database}?driver=ODBC+Driver+17+for+SQL+Server\"\n",
    "    print(eng)\n",
    "    return create_engine(eng)"
   ]
  },
  {
   "cell_type": "code",
   "execution_count": 302,
   "id": "b99a4085",
   "metadata": {},
   "outputs": [
    {
     "name": "stdout",
     "output_type": "stream",
     "text": [
      "mssql://KIWI/AdventureWorks2022?trusted_connection=yes&driver=ODBC+Driver+17+for+SQL+Server\n"
     ]
    }
   ],
   "source": [
    "# fill up with my data\n",
    "engine = new_engine('mssql', 'KIWI', 'AdventureWorks2022', integrated_security=True)"
   ]
  },
  {
   "cell_type": "markdown",
   "id": "c4a86731",
   "metadata": {},
   "source": [
    "2. Skapa connection med databasen"
   ]
  },
  {
   "cell_type": "code",
   "execution_count": 372,
   "id": "7305f319",
   "metadata": {},
   "outputs": [
    {
     "name": "stdout",
     "output_type": "stream",
     "text": [
      "<class 'sqlalchemy.engine.base.Engine'>\n"
     ]
    }
   ],
   "source": [
    "# printing engine\n",
    "print(type(engine))"
   ]
  },
  {
   "cell_type": "code",
   "execution_count": 373,
   "id": "5212b09c",
   "metadata": {},
   "outputs": [],
   "source": [
    "# creating connection\n",
    "connection = engine.connect()"
   ]
  },
  {
   "cell_type": "code",
   "execution_count": 374,
   "id": "e9dad3a9",
   "metadata": {},
   "outputs": [
    {
     "name": "stdout",
     "output_type": "stream",
     "text": [
      "<class 'sqlalchemy.engine.base.Connection'>\n"
     ]
    }
   ],
   "source": [
    "# printing to see that connection is correct\n",
    "print(type(connection))"
   ]
  },
  {
   "cell_type": "markdown",
   "id": "17ca4831",
   "metadata": {},
   "source": [
    "3. Min SQL-Query"
   ]
  },
  {
   "cell_type": "code",
   "execution_count": 375,
   "id": "5adfa62f",
   "metadata": {},
   "outputs": [],
   "source": [
    "# Number of Employee per JobTitle\n",
    "query1= \"\"\"\n",
    "SELECT Count(BusinessEntityID) AS 'Antal Anställda', JobTitle FROM HumanResources.Employee\n",
    "GROUP BY JobTitle;\n",
    "\"\"\"\n",
    "# Number of Employee per JobTitle to plot\n",
    "query1_1= \"\"\"\n",
    "SELECT top 10 Count(BusinessEntityID) AS NO_Employee, JobTitle FROM HumanResources.Employee\n",
    "GROUP BY JobTitle\n",
    "Order by Count(BusinessEntityID) DESC;\n",
    "\"\"\"\n",
    "\n",
    "# Number of different JobTitle\n",
    "query2= \"\"\"\n",
    "SELECT Count(Distinct JobTitle)  AS 'Antal Jobbtitlar' FROM HumanResources.Employee;\n",
    "\"\"\"\n",
    "\n",
    "# Number of Employee\n",
    "query3= \"\"\"\n",
    "SELECT Count(BusinessEntityID) AS 'Antal anställda' FROM HumanResources.Employee;\n",
    "\"\"\"\n",
    "\n",
    "# Average age\n",
    "query4= \"\"\"\n",
    "SELECT \n",
    "AVG(DATEDIFF(yy,BirthDate,getdate())) AS 'Medelålder på företaget'\n",
    "FROM HumanResources.Employee;\n",
    "\"\"\"\n",
    "\n",
    "# Names of Department\n",
    "query5= \"\"\"\n",
    "SELECT [Name] FROM HumanResources.Department\n",
    "group by [Name];\n",
    "\"\"\"\n",
    "\n",
    "# Number of Departments \n",
    "query5_1= \"\"\"\n",
    "SELECT Count(distinct [Name]) AS 'Antal avdelningar' FROM HumanResources.Department;\n",
    "\"\"\"\n",
    "\n",
    "# Number of SalesPersons\n",
    "query6= \"\"\"\n",
    "SELECT count(BusinessEntityID) AS 'Antal Säljare'\n",
    "FROM Person.Person\n",
    "WHERE PersonType='SP'\n",
    "Group by PersonType;\n",
    "\"\"\"\n",
    "\n",
    "# Number of products per color\n",
    "query7= \"\"\"\n",
    "SELECT COUNT(ProductID), [Color]\n",
    "FROM Production.Product\n",
    "Group by [Color];\n",
    "\"\"\"\n",
    "\n",
    "# Number of products that takes more then one day to manifacture\n",
    "query8= \"\"\"\n",
    "SELECT COUNT(ProductID) As 'Antal produkter fler dagar än 1'\n",
    "FROM Production.Product\n",
    "Where DaysToManufacture > 1\n",
    ";\n",
    "\"\"\"\n",
    "\n",
    "# Total Sales, Tax and Freight\n",
    "query9= \"\"\"\n",
    "SELECT CAST( SUM([SubTotal]) AS INT) As 'total försäljning'\n",
    "      ,CAST( SUM([TaxAmt]) AS INT) As 'total moms'\n",
    "      ,CAST( SUM([Freight]) AS INT) AS 'total frakt'\n",
    "FROM [AdventureWorks2022].[Sales].[SalesOrderHeader];\n",
    "\"\"\"\n",
    "\n",
    "# Number of Stores they sell products to\n",
    "query10= \"\"\"\n",
    "SELECT Count(BusinessEntityID) AS 'Antal affärer som de säljer varor till'\n",
    "FROM Sales.Store;\n",
    "\"\"\""
   ]
  },
  {
   "cell_type": "markdown",
   "id": "30ed1f6e",
   "metadata": {},
   "source": [
    "3.2 De lite mer avancerade SQL strängarna för statistiken"
   ]
  },
  {
   "cell_type": "code",
   "execution_count": 376,
   "id": "e134432a",
   "metadata": {},
   "outputs": [],
   "source": [
    "# Products with information about margin, name and Subcategory name\n",
    "long_query1= \"\"\"\n",
    "SELECT PP.ProductID\n",
    "\t, PP.[Name]\n",
    "\t, CAST(PP.ListPrice - PP.StandardCost AS INT) AS 'Differens'\n",
    "\t, Count(SOD.OrderQty) AS 'Antal sålda'\n",
    "\t, CAST( (PP.ListPrice - PP.StandardCost) * Count(SOD.OrderQty) AS INT) AS 'Total vinst'\n",
    "\t,PS.[Name] AS 'Produkt Kategori'\n",
    "FROM Production.Product AS PP\n",
    "\tLEFT JOIN Sales.SalesOrderDetail AS SOD\n",
    "\tON PP.ProductID = SOD.ProductID\n",
    "\t\tLEFT JOIN Production.ProductSubcategory AS PS\n",
    "\t\tON PP.ProductSubcategoryID = PS.ProductSubcategoryID\n",
    "GROUP BY PP.ProductID, PP.[Name], PP.ListPrice, PP.StandardCost, PS.[Name]\n",
    "-- ORDER BY 'Total vinst' DESC ;\n",
    "-- ORDER BY 'Differens' DESC ;\n",
    "\"\"\"\n",
    "\n",
    "# Salespersons with full name that haven't sold as much as last year\n",
    "long_query2=\"\"\"\n",
    "-- Med SUBQUERY för att hämta för, mellan och efternamn som en sträng\n",
    "SELECT CAST( SALES.SalesYTD AS INT) AS 'SaleThisYear'\n",
    "\t, CAST( SALES.SalesLastYear AS INT) AS 'SaleLastYear'\n",
    "\t, CAST( SALES.SalesYTD - SALES.SalesLastYear AS INT) AS LessThenLastYear\n",
    "\t, (SELECT CONCAT_WS(' ', PERSON.FirstName, PERSON.MiddleName, PERSON.LastName) FROM Person.Person\n",
    "\tAS PERSON\n",
    "\t\tWHERE SALES.BusinessEntityID=PERSON.BusinessEntityID) AS FullName\n",
    "FROM Sales.SalesPerson AS SALES\n",
    "WHERE (SALES.SalesYTD - SALES.SalesLastYear) <= 0;\n",
    ";\n",
    "\"\"\"\n",
    "\n",
    "# Salespersons with fullname that had no sales last year\n",
    "long_query3=\"\"\"\n",
    "-- Med SUBQUERY för att hämta för, mellan och efternamn som en sträng för de säljare som inte hade några siffror fg år -------------\n",
    "SELECT CAST( SALES.SalesYTD AS INT) AS 'SaleThisYear'\n",
    "\t, CAST( SALES.SalesLastYear AS INT) AS 'SaleLastYear'\n",
    "\t, CAST (SALES.SalesYTD - SALES.SalesLastYear AS INT) AS BetterThenLastYear\n",
    "\t, (SELECT CONCAT_WS(' ', PERSON.FirstName, PERSON.MiddleName, PERSON.LastName) FROM Person.Person\n",
    "\tAS PERSON\n",
    "\t\tWHERE SALES.BusinessEntityID=PERSON.BusinessEntityID) AS FullName\n",
    "FROM Sales.SalesPerson AS SALES\n",
    "WHERE SALES.SalesLastYear = 0\n",
    "ORDER BY BetterThenLastYear DESC;\n",
    ";\n",
    "\"\"\"\n",
    "\n",
    "# Salespersons with fullname that have sold more then last year\n",
    "long_query4=\"\"\"\n",
    "-- Med SUBQUERY för att hämta för, mellan och efternamn som en sträng för säljare som uppnått fg års siffror och hur mycket mer -------------\n",
    "SELECT CAST( SALES.SalesYTD AS INT) AS 'SaleThisYear'\n",
    "\t, CAST( SALES.SalesLastYear AS INT) AS 'SaleLastYear'\n",
    "\t, CAST( SALES.SalesYTD - SALES.SalesLastYear AS INT) AS BetterThenLastYear\n",
    "\t, (SELECT CONCAT_WS(' ', PERSON.FirstName, PERSON.MiddleName, PERSON.LastName) FROM Person.Person\n",
    "\tAS PERSON\n",
    "\t\tWHERE SALES.BusinessEntityID=PERSON.BusinessEntityID) AS FullName\n",
    "FROM Sales.SalesPerson AS SALES\n",
    "WHERE (SALES.SalesYTD - SALES.SalesLastYear) >= 0 AND  SALES.SalesLastYear != 0\n",
    "ORDER BY BetterThenLastYear DESC;\n",
    ";\n",
    "\"\"\""
   ]
  },
  {
   "cell_type": "markdown",
   "id": "82ca837c",
   "metadata": {},
   "source": [
    "3.3 fortsättning av SQL-stängar"
   ]
  },
  {
   "cell_type": "code",
   "execution_count": 377,
   "id": "0f56a0f4",
   "metadata": {},
   "outputs": [],
   "source": [
    "# Avergare age and Average year as employee\n",
    "query11= \"\"\"\n",
    "SELECT \n",
    "\tAVG(DATEDIFF(yy,BirthDate,getdate())) AS AvgAge\n",
    "\t, AVG(DATEDIFF(yy,HireDate,getdate())) AS AvgYearsAsEmployee\n",
    " FROM HumanResources.Employee;\n",
    " \"\"\"\n",
    "\n",
    "# Age and years as employee to coubt average from in python\n",
    "query11_1=\"\"\"SELECT \n",
    "\tDATEDIFF(yy,BirthDate,getdate()) AS Age\n",
    "\t, DATEDIFF(yy,HireDate,getdate()) AS YearsAsEmployee\n",
    " FROM HumanResources.Employee;\"\"\"\n",
    "\n",
    "# Most common Jobtitle\n",
    "query12= \"\"\"\n",
    " SELECT TOP 1 WITH TIES\n",
    "\tcount(JobTitle) AS PersonWithTitle, JobTitle\n",
    " FROM HumanResources.Employee\n",
    " GROUP BY JobTitle\n",
    " ORDER By count(JobTitle) DESC;\n",
    " \"\"\"\n",
    "\n",
    "# MartialStatus of employee\n",
    "query13= \"\"\"\n",
    "SELECT TOP 1\n",
    "\tCOUNT(MaritalStatus) AS Gift\n",
    "\t, MaritalStatus = CASE MaritalStatus\n",
    "\t\tWHEN 'M' THEN 'Married'\n",
    "\t\tWHEN 'S' THEN 'Single'\n",
    "\t\tELSE 'Unknown'\n",
    "\t\tEND\n",
    "FROM HumanResources.Employee\n",
    "GROUP BY MaritalStatus\n",
    "ORDER BY COUNT(MaritalStatus) DESC\n",
    ";\n",
    " \"\"\"\n",
    "\n",
    "# Gender of Employee\n",
    "query14= \"\"\"\n",
    "SELECT TOP 1\n",
    "\tCOUNT(Gender) NumberOfGender\n",
    "\t, Gender = CASE Gender\n",
    "\t\tWHEN 'M' THEN 'Male'\n",
    "\t\tWHEN 'F' THEN 'Female'\n",
    "\t\tELSE 'Unknown'\n",
    "\t\tEND\n",
    "FROM HumanResources.Employee\n",
    "GROUP BY Gender\n",
    "ORDER BY COUNT(Gender) DESC\n",
    ";\n",
    " \"\"\"\n",
    "\n",
    "# Rate per hour for all employee\n",
    "query15= \"\"\"\n",
    "WITH Rate_CTE (MaxRateChangeDate, BusinessEntityID)\n",
    "AS\n",
    "\t(\n",
    "\t\tSELECT MAX(RateChangeDate) as MaxRateChangeDate, BusinessEntityID\n",
    "\t\tFROM HumanResources.EmployeePayHistory\n",
    "\t\tGROUP BY BusinessEntityID\n",
    "\t)\n",
    "\n",
    "SELECT Avg(Rate) AS 'Medellön per timme'\n",
    "FROM HumanResources.EmployeePayHistory AS HR\n",
    "WHERE RateChangeDate = (SELECT Rate_CTE.MaxRateChangeDate\n",
    "\t\t\t\t\t\tFROM Rate_CTE\n",
    "\t\t\t\t\t\tWHERE HR.BusinessEntityID = Rate_CTE.BusinessEntityID\n",
    "\t\t\t\t\t\t)\n",
    ";\n",
    "\"\"\""
   ]
  },
  {
   "cell_type": "markdown",
   "id": "9d91f56a",
   "metadata": {},
   "source": [
    "3.4 SQL-kod för konfidensintervall"
   ]
  },
  {
   "cell_type": "code",
   "execution_count": 378,
   "id": "4a82a24e",
   "metadata": {},
   "outputs": [],
   "source": [
    "# Query for confidence intervall\n",
    "query_conf=\"\"\"\n",
    "SELECT * FROM Production.WorkOrder;\n",
    "\"\"\""
   ]
  },
  {
   "cell_type": "markdown",
   "id": "46ab5a97",
   "metadata": {},
   "source": [
    "4. Hämta datan från SQL med hjälp av pandas dataframe"
   ]
  },
  {
   "cell_type": "code",
   "execution_count": 379,
   "id": "4af4c440",
   "metadata": {},
   "outputs": [],
   "source": [
    "df1 = pd.read_sql(sql=query1, con=connection)\n",
    "df1_1 = pd.read_sql(sql=query1_1, con=connection)\n",
    "df2 = pd.read_sql(sql=query2, con=connection)\n",
    "df3 = pd.read_sql(sql=query3, con=connection)\n",
    "df4 = pd.read_sql(sql=query4, con=connection)\n",
    "df5 = pd.read_sql(sql=query5, con=connection)\n",
    "df5_1 = pd.read_sql(sql=query5_1, con=connection)\n",
    "df6 = pd.read_sql(sql=query6, con=connection)\n",
    "df7 = pd.read_sql(sql=query7, con=connection)\n",
    "df8 = pd.read_sql(sql=query8, con=connection)\n",
    "df9 = pd.read_sql(sql=query9, con=connection)\n",
    "df10 = pd.read_sql(sql=query10, con=connection)\n",
    "\n",
    "df_long1 = pd.read_sql(sql=long_query1, con=connection)\n",
    "df_long2 = pd.read_sql(sql=long_query2, con=connection)\n",
    "df_long3 = pd.read_sql(sql=long_query3, con=connection)\n",
    "df_long4 = pd.read_sql(sql=long_query4, con=connection)\n",
    "\n",
    "df11 = pd.read_sql(sql=query11, con=connection)\n",
    "df11_1 = pd.read_sql(sql=query11_1, con=connection)\n",
    "df12 = pd.read_sql(sql=query12, con=connection)\n",
    "df13 = pd.read_sql(sql=query13, con=connection)\n",
    "df14 = pd.read_sql(sql=query14, con=connection)\n",
    "df15 = pd.read_sql(sql=query15, con=connection)\n",
    "\n",
    "df_conf= pd.read_sql(sql=query_conf, con=connection)"
   ]
  },
  {
   "cell_type": "markdown",
   "id": "b180a512",
   "metadata": {},
   "source": [
    "5. Presentation av data"
   ]
  },
  {
   "cell_type": "code",
   "execution_count": 380,
   "id": "38279d4b",
   "metadata": {},
   "outputs": [
    {
     "name": "stdout",
     "output_type": "stream",
     "text": [
      "   Antal Jobbtitlar\n",
      "0                67\n",
      "   Antal anställda\n",
      "0              290\n",
      "   Medelålder på företaget\n",
      "0                       45\n",
      "   Antal avdelningar\n",
      "0                 16\n",
      "   Antal Säljare\n",
      "0             17\n",
      "   Antal produkter fler dagar än 1\n",
      "0                              104\n",
      "   Antal affärer som de säljer varor till\n",
      "0                                     701\n",
      "   total försäljning  total moms  total frakt\n",
      "0          109846381    10186974      3183430\n"
     ]
    }
   ],
   "source": [
    "print(df2)\n",
    "print(df3)\n",
    "print(df4)\n",
    "print(df5_1)\n",
    "print(df6)\n",
    "print(df8)\n",
    "print(df10)\n",
    "print(df9)"
   ]
  },
  {
   "cell_type": "code",
   "execution_count": 381,
   "id": "c4cbfa7a",
   "metadata": {},
   "outputs": [
    {
     "name": "stdout",
     "output_type": "stream",
     "text": [
      "Konfidensintervall för antal produkter per order är: (57.118217180899315, 67.07682077146393)\n"
     ]
    }
   ],
   "source": [
    "# Confidence intervall for size on orders\n",
    "N_O_orders = df_conf.OrderQty\n",
    "confint = stats.norm.interval(0.95, loc=np.mean(N_O_orders), scale=stats.sem(N_O_orders))\n",
    "\n",
    "print(f\"Konfidensintervall för antal produkter per order är: {confint}\")"
   ]
  },
  {
   "cell_type": "code",
   "execution_count": 382,
   "id": "d45d4d73",
   "metadata": {
    "scrolled": false
   },
   "outputs": [
    {
     "name": "stdout",
     "output_type": "stream",
     "text": [
      "     ProductID                     Name  Differens  Antal sålda  Total vinst  \\\n",
      "286        782   Mountain-200 Black, 38       1043         1252      1305847   \n",
      "287        783   Mountain-200 Black, 42       1043         1177      1227621   \n",
      "283        779  Mountain-200 Silver, 38       1054         1094      1153481   \n",
      "285        781  Mountain-200 Silver, 46       1054         1054      1111307   \n",
      "288        784   Mountain-200 Black, 46       1043         1059      1104546   \n",
      "284        780  Mountain-200 Silver, 42       1054         1040      1096545   \n",
      "257        753         Road-150 Red, 56       1407          475       668314   \n",
      "253        749         Road-150 Red, 62       1407          470       661279   \n",
      "298        794       Road-250 Black, 48        888          712       632542   \n",
      "297        793       Road-250 Black, 44        888          705       626323   \n",
      "\n",
      "    Produkt Kategori  \n",
      "286   Mountain Bikes  \n",
      "287   Mountain Bikes  \n",
      "283   Mountain Bikes  \n",
      "285   Mountain Bikes  \n",
      "288   Mountain Bikes  \n",
      "284   Mountain Bikes  \n",
      "257       Road Bikes  \n",
      "253       Road Bikes  \n",
      "298       Road Bikes  \n",
      "297       Road Bikes  \n",
      "     ProductID                     Name  Differens  Antal sålda  Total vinst  \\\n",
      "278        774  Mountain-100 Silver, 48       1488          204       303518   \n",
      "276        772  Mountain-100 Silver, 42       1488          221       328812   \n",
      "277        773  Mountain-100 Silver, 44       1488          233       346666   \n",
      "275        771  Mountain-100 Silver, 38       1488          241       358568   \n",
      "279        775   Mountain-100 Black, 38       1477          234       345594   \n",
      "282        778   Mountain-100 Black, 48       1477          243       358886   \n",
      "281        777   Mountain-100 Black, 44       1477          242       357409   \n",
      "280        776   Mountain-100 Black, 42       1477          228       336732   \n",
      "253        749         Road-150 Red, 62       1407          470       661279   \n",
      "254        750         Road-150 Red, 44       1407          358       503697   \n",
      "\n",
      "    Produkt Kategori  \n",
      "278   Mountain Bikes  \n",
      "276   Mountain Bikes  \n",
      "277   Mountain Bikes  \n",
      "275   Mountain Bikes  \n",
      "279   Mountain Bikes  \n",
      "282   Mountain Bikes  \n",
      "281   Mountain Bikes  \n",
      "280   Mountain Bikes  \n",
      "253       Road Bikes  \n",
      "254       Road Bikes  \n"
     ]
    }
   ],
   "source": [
    "print(df_long1.sort_values(\"Total vinst\", ascending=False).head(10))\n",
    "print(df_long1.sort_values(\"Differens\", ascending=False).head(10))"
   ]
  },
  {
   "cell_type": "code",
   "execution_count": 383,
   "id": "9e9afb1f",
   "metadata": {
    "scrolled": true
   },
   "outputs": [
    {
     "name": "stdout",
     "output_type": "stream",
     "text": [
      "   SaleThisYear  SaleLastYear  LessThenLastYear               FullName\n",
      "0       1453719       1620277           -166557       Garrett R Vargas\n",
      "1       1352577       1927059           -574482  Pamela O Ansman-Wolfe\n",
      "2       1421811       2278549           -856738        Lynn N Tsoflias\n"
     ]
    }
   ],
   "source": [
    "print(df_long2)"
   ]
  },
  {
   "cell_type": "code",
   "execution_count": 384,
   "id": "c8e02db8",
   "metadata": {},
   "outputs": [
    {
     "name": "stdout",
     "output_type": "stream",
     "text": [
      "   SaleThisYear  SaleLastYear  BetterThenLastYear            FullName\n",
      "0       1576562             0             1576562  Tete A Mensa-Annan\n",
      "1        559698             0              559698     Stephen Y Jiang\n",
      "2        519906             0              519906       Amy E Alberts\n",
      "3        172524             0              172524        Syed E Abbas\n"
     ]
    }
   ],
   "source": [
    "print(df_long3)"
   ]
  },
  {
   "cell_type": "code",
   "execution_count": 385,
   "id": "2385fd4c",
   "metadata": {
    "scrolled": true
   },
   "outputs": [
    {
     "name": "stdout",
     "output_type": "stream",
     "text": [
      "   SaleThisYear  SaleLastYear  BetterThenLastYear                    FullName\n",
      "0       4251369       1439156             2812213            Linda C Mitchell\n",
      "1       4116871       1635823             2481048                   Jae B Pak\n",
      "2       3763178       1750406             2012772            Michael G Blythe\n",
      "3       3189418       1997186             1192232              Jillian Carson\n",
      "4       3121616       2396540              725077  Ranjit R Varkey Chudukatil\n",
      "5       2604541       2038235              566306        José Edvaldo Saraiva\n",
      "6       1827067       1307950              519117             Rachel B Valdez\n",
      "7       2315186       1849641              465545         Tsvi Michael Reiter\n",
      "8       2458536       2073506              385030                   Shu K Ito\n",
      "9       1573013       1371635              201378            David R Campbell\n"
     ]
    }
   ],
   "source": [
    "print(df_long4)"
   ]
  },
  {
   "cell_type": "code",
   "execution_count": 386,
   "id": "99655d40",
   "metadata": {},
   "outputs": [
    {
     "name": "stdout",
     "output_type": "stream",
     "text": [
      "   AvgAge  AvgYearsAsEmployee\n",
      "0      45                  14\n",
      "   PersonWithTitle                      JobTitle\n",
      "0               26  Production Technician - WC50\n",
      "1               26  Production Technician - WC60\n",
      "2               26  Production Technician - WC40\n",
      "   Gift MaritalStatus\n",
      "0   146       Married\n",
      "   NumberOfGender Gender\n",
      "0             206   Male\n",
      "   Medellön per timme\n",
      "0             18.1882\n"
     ]
    }
   ],
   "source": [
    "print(df11)\n",
    "print(df12)\n",
    "print(df13)\n",
    "print(df14)\n",
    "print(df15)"
   ]
  },
  {
   "cell_type": "markdown",
   "id": "ad6d7803",
   "metadata": {},
   "source": [
    "6. Diagram och andra klurigheter"
   ]
  },
  {
   "cell_type": "code",
   "execution_count": 387,
   "id": "8dc3f22d",
   "metadata": {},
   "outputs": [
    {
     "data": {
      "image/png": "[encoded data removed]",
      "text/plain": [
       "<Figure size 2000x1500 with 2 Axes>"
      ]
     },
     "metadata": {},
     "output_type": "display_data"
    }
   ],
   "source": [
    "# Figures showing mean for Age and Years as a Employee\n",
    "\n",
    "fig, axs = plt.subplots(2,1, figsize=(20,15))\n",
    "axs[0].hist(df11_1.Age)\n",
    "axs[0].axhline(y=np.mean(df11_1.Age), color='red', label='Avg')\n",
    "axs[0].set_title('Age')\n",
    "\n",
    "axs[1].hist(df11_1.YearsAsEmployee)\n",
    "axs[1].axhline(y=np.mean(df11_1.YearsAsEmployee), color='red', label='Avg')\n",
    "axs[1].set_title('Years as employee')\n",
    "\n",
    "plt.show()"
   ]
  },
  {
   "cell_type": "code",
   "execution_count": 388,
   "id": "57afc028",
   "metadata": {},
   "outputs": [
    {
     "data": {
      "image/png": "[encoded data removed]",
      "text/plain": [
       "<Figure size 1000x500 with 1 Axes>"
      ]
     },
     "metadata": {},
     "output_type": "display_data"
    },
    {
     "data": {
      "text/html": [
       "<div>\n",
       "<style scoped>\n",
       "    .dataframe tbody tr th:only-of-type {\n",
       "        vertical-align: middle;\n",
       "    }\n",
       "\n",
       "    .dataframe tbody tr th {\n",
       "        vertical-align: top;\n",
       "    }\n",
       "\n",
       "    .dataframe thead th {\n",
       "        text-align: right;\n",
       "    }\n",
       "</style>\n",
       "<table border=\"1\" class=\"dataframe\">\n",
       "  <thead>\n",
       "    <tr style=\"text-align: right;\">\n",
       "      <th></th>\n",
       "      <th>WorkOrderID</th>\n",
       "      <th>ProductID</th>\n",
       "      <th>OrderQty</th>\n",
       "      <th>StockedQty</th>\n",
       "      <th>ScrappedQty</th>\n",
       "      <th>StartDate</th>\n",
       "      <th>EndDate</th>\n",
       "      <th>DueDate</th>\n",
       "      <th>ScrapReasonID</th>\n",
       "      <th>ModifiedDate</th>\n",
       "    </tr>\n",
       "  </thead>\n",
       "  <tbody>\n",
       "    <tr>\n",
       "      <th>36295</th>\n",
       "      <td>36296</td>\n",
       "      <td>996</td>\n",
       "      <td>1</td>\n",
       "      <td>1</td>\n",
       "      <td>0</td>\n",
       "      <td>2013-05-28</td>\n",
       "      <td>2013-06-08</td>\n",
       "      <td>2013-06-08</td>\n",
       "      <td>NaN</td>\n",
       "      <td>2013-06-08</td>\n",
       "    </tr>\n",
       "    <tr>\n",
       "      <th>26372</th>\n",
       "      <td>26373</td>\n",
       "      <td>793</td>\n",
       "      <td>1</td>\n",
       "      <td>1</td>\n",
       "      <td>0</td>\n",
       "      <td>2012-12-08</td>\n",
       "      <td>2012-12-19</td>\n",
       "      <td>2012-12-19</td>\n",
       "      <td>NaN</td>\n",
       "      <td>2012-12-19</td>\n",
       "    </tr>\n",
       "    <tr>\n",
       "      <th>26371</th>\n",
       "      <td>26372</td>\n",
       "      <td>792</td>\n",
       "      <td>1</td>\n",
       "      <td>1</td>\n",
       "      <td>0</td>\n",
       "      <td>2012-12-08</td>\n",
       "      <td>2012-12-19</td>\n",
       "      <td>2012-12-19</td>\n",
       "      <td>NaN</td>\n",
       "      <td>2012-12-19</td>\n",
       "    </tr>\n",
       "    <tr>\n",
       "      <th>59895</th>\n",
       "      <td>59896</td>\n",
       "      <td>892</td>\n",
       "      <td>1</td>\n",
       "      <td>1</td>\n",
       "      <td>0</td>\n",
       "      <td>2014-02-02</td>\n",
       "      <td>2014-02-12</td>\n",
       "      <td>2014-02-13</td>\n",
       "      <td>NaN</td>\n",
       "      <td>2014-02-12</td>\n",
       "    </tr>\n",
       "    <tr>\n",
       "      <th>59897</th>\n",
       "      <td>59898</td>\n",
       "      <td>900</td>\n",
       "      <td>1</td>\n",
       "      <td>1</td>\n",
       "      <td>0</td>\n",
       "      <td>2014-02-02</td>\n",
       "      <td>2014-02-12</td>\n",
       "      <td>2014-02-13</td>\n",
       "      <td>NaN</td>\n",
       "      <td>2014-02-12</td>\n",
       "    </tr>\n",
       "    <tr>\n",
       "      <th>...</th>\n",
       "      <td>...</td>\n",
       "      <td>...</td>\n",
       "      <td>...</td>\n",
       "      <td>...</td>\n",
       "      <td>...</td>\n",
       "      <td>...</td>\n",
       "      <td>...</td>\n",
       "      <td>...</td>\n",
       "      <td>...</td>\n",
       "      <td>...</td>\n",
       "    </tr>\n",
       "    <tr>\n",
       "      <th>47659</th>\n",
       "      <td>47660</td>\n",
       "      <td>3</td>\n",
       "      <td>33040</td>\n",
       "      <td>33040</td>\n",
       "      <td>0</td>\n",
       "      <td>2013-10-03</td>\n",
       "      <td>2013-10-13</td>\n",
       "      <td>2013-10-14</td>\n",
       "      <td>NaN</td>\n",
       "      <td>2013-10-13</td>\n",
       "    </tr>\n",
       "    <tr>\n",
       "      <th>17733</th>\n",
       "      <td>17734</td>\n",
       "      <td>3</td>\n",
       "      <td>33420</td>\n",
       "      <td>33420</td>\n",
       "      <td>0</td>\n",
       "      <td>2012-07-03</td>\n",
       "      <td>2012-07-13</td>\n",
       "      <td>2012-07-14</td>\n",
       "      <td>NaN</td>\n",
       "      <td>2012-07-13</td>\n",
       "    </tr>\n",
       "    <tr>\n",
       "      <th>50529</th>\n",
       "      <td>50530</td>\n",
       "      <td>3</td>\n",
       "      <td>34620</td>\n",
       "      <td>34620</td>\n",
       "      <td>0</td>\n",
       "      <td>2013-11-02</td>\n",
       "      <td>2013-11-12</td>\n",
       "      <td>2013-11-13</td>\n",
       "      <td>NaN</td>\n",
       "      <td>2013-11-12</td>\n",
       "    </tr>\n",
       "    <tr>\n",
       "      <th>42064</th>\n",
       "      <td>42065</td>\n",
       "      <td>3</td>\n",
       "      <td>39270</td>\n",
       "      <td>39270</td>\n",
       "      <td>0</td>\n",
       "      <td>2013-08-03</td>\n",
       "      <td>2013-08-13</td>\n",
       "      <td>2013-08-14</td>\n",
       "      <td>NaN</td>\n",
       "      <td>2013-08-13</td>\n",
       "    </tr>\n",
       "    <tr>\n",
       "      <th>39423</th>\n",
       "      <td>39424</td>\n",
       "      <td>3</td>\n",
       "      <td>39570</td>\n",
       "      <td>39570</td>\n",
       "      <td>0</td>\n",
       "      <td>2013-07-03</td>\n",
       "      <td>2013-07-13</td>\n",
       "      <td>2013-07-14</td>\n",
       "      <td>NaN</td>\n",
       "      <td>2013-07-13</td>\n",
       "    </tr>\n",
       "  </tbody>\n",
       "</table>\n",
       "<p>72591 rows × 10 columns</p>\n",
       "</div>"
      ],
      "text/plain": [
       "       WorkOrderID  ProductID  OrderQty  StockedQty  ScrappedQty  StartDate  \\\n",
       "36295        36296        996         1           1            0 2013-05-28   \n",
       "26372        26373        793         1           1            0 2012-12-08   \n",
       "26371        26372        792         1           1            0 2012-12-08   \n",
       "59895        59896        892         1           1            0 2014-02-02   \n",
       "59897        59898        900         1           1            0 2014-02-02   \n",
       "...            ...        ...       ...         ...          ...        ...   \n",
       "47659        47660          3     33040       33040            0 2013-10-03   \n",
       "17733        17734          3     33420       33420            0 2012-07-03   \n",
       "50529        50530          3     34620       34620            0 2013-11-02   \n",
       "42064        42065          3     39270       39270            0 2013-08-03   \n",
       "39423        39424          3     39570       39570            0 2013-07-03   \n",
       "\n",
       "         EndDate    DueDate  ScrapReasonID ModifiedDate  \n",
       "36295 2013-06-08 2013-06-08            NaN   2013-06-08  \n",
       "26372 2012-12-19 2012-12-19            NaN   2012-12-19  \n",
       "26371 2012-12-19 2012-12-19            NaN   2012-12-19  \n",
       "59895 2014-02-12 2014-02-13            NaN   2014-02-12  \n",
       "59897 2014-02-12 2014-02-13            NaN   2014-02-12  \n",
       "...          ...        ...            ...          ...  \n",
       "47659 2013-10-13 2013-10-14            NaN   2013-10-13  \n",
       "17733 2012-07-13 2012-07-14            NaN   2012-07-13  \n",
       "50529 2013-11-12 2013-11-13            NaN   2013-11-12  \n",
       "42064 2013-08-13 2013-08-14            NaN   2013-08-13  \n",
       "39423 2013-07-13 2013-07-14            NaN   2013-07-13  \n",
       "\n",
       "[72591 rows x 10 columns]"
      ]
     },
     "execution_count": 388,
     "metadata": {},
     "output_type": "execute_result"
    }
   ],
   "source": [
    "# Trying to make a figure showing OrderQuantity\n",
    "\n",
    "plt.figure(figsize=(10,5))\n",
    "plt.hist(df_conf.OrderQty)\n",
    "plt.title('OrderQuantity')\n",
    "\n",
    "plt.show()\n",
    "\n",
    "# Been thinking for a while why I don't get a good diagram of the data, but thats because the smallest OrderQty is one\n",
    "# and the biggest is over 39000 and there is a lot of the smaller ones.\n",
    "df_conf.sort_values(\"OrderQty\", ascending=False)\n",
    "df_conf.sort_values(\"OrderQty\", ascending=True)"
   ]
  },
  {
   "cell_type": "code",
   "execution_count": 389,
   "id": "2c98bc01",
   "metadata": {},
   "outputs": [
    {
     "name": "stdout",
     "output_type": "stream",
     "text": [
      "   NO_Employee                      JobTitle\n",
      "0           26  Production Technician - WC40\n",
      "1           26  Production Technician - WC50\n",
      "2           26  Production Technician - WC60\n",
      "3           25  Production Technician - WC30\n",
      "4           22  Production Technician - WC20\n",
      "5           17  Production Technician - WC10\n",
      "6           15  Production Technician - WC45\n",
      "7           14          Sales Representative\n",
      "8            9                         Buyer\n",
      "9            5          Marketing Specialist\n"
     ]
    },
    {
     "data": {
      "text/plain": [
       "<BarContainer object of 10 artists>"
      ]
     },
     "execution_count": 389,
     "metadata": {},
     "output_type": "execute_result"
    },
    {
     "data": {
      "image/png": "[encoded data removed]",
      "text/plain": [
       "<Figure size 640x480 with 1 Axes>"
      ]
     },
     "metadata": {},
     "output_type": "display_data"
    }
   ],
   "source": [
    "# A plot of most common jobtitles\n",
    "print(df1_1)\n",
    "fig, ax = plt.subplots()\n",
    "\n",
    "ax.barh(df1_1.JobTitle,df1_1.NO_Employee)\n"
   ]
  },
  {
   "cell_type": "code",
   "execution_count": 390,
   "id": "14bcf03e",
   "metadata": {},
   "outputs": [
    {
     "name": "stdout",
     "output_type": "stream",
     "text": [
      "     ProductID                     Name  Differens  Antal sålda  Total vinst  \\\n",
      "286        782   Mountain-200 Black, 38       1043         1252      1305847   \n",
      "287        783   Mountain-200 Black, 42       1043         1177      1227621   \n",
      "283        779  Mountain-200 Silver, 38       1054         1094      1153481   \n",
      "285        781  Mountain-200 Silver, 46       1054         1054      1111307   \n",
      "288        784   Mountain-200 Black, 46       1043         1059      1104546   \n",
      "284        780  Mountain-200 Silver, 42       1054         1040      1096545   \n",
      "257        753         Road-150 Red, 56       1407          475       668314   \n",
      "253        749         Road-150 Red, 62       1407          470       661279   \n",
      "298        794       Road-250 Black, 48        888          712       632542   \n",
      "297        793       Road-250 Black, 44        888          705       626323   \n",
      "\n",
      "    Produkt Kategori  \n",
      "286   Mountain Bikes  \n",
      "287   Mountain Bikes  \n",
      "283   Mountain Bikes  \n",
      "285   Mountain Bikes  \n",
      "288   Mountain Bikes  \n",
      "284   Mountain Bikes  \n",
      "257       Road Bikes  \n",
      "253       Road Bikes  \n",
      "298       Road Bikes  \n",
      "297       Road Bikes  \n",
      "Produkt Kategori\n",
      "Bib-Shorts              40287\n",
      "Bike Racks              59796\n",
      "Bike Stands             24784\n",
      "Bottles and Cages       36943\n",
      "Bottom Brackets         19229\n",
      "Brakes                  22442\n",
      "Caps                     6993\n",
      "Chains                   2813\n",
      "Cleaners                 6604\n",
      "Cranksets               70479\n",
      "Derailleurs             22865\n",
      "Fenders                 29184\n",
      "Forks                   21769\n",
      "Gloves                  61998\n",
      "Handlebars              66154\n",
      "Headsets                14759\n",
      "Helmets                201075\n",
      "Hydration Packs         36971\n",
      "Jerseys                 85287\n",
      "Lights                      0\n",
      "Locks                    3819\n",
      "Mountain Bikes       11031649\n",
      "Mountain Frames       1535138\n",
      "Panniers                    0\n",
      "Pedals                  52516\n",
      "Pumps                    3136\n",
      "Road Bikes           12019985\n",
      "Road Frames           1111687\n",
      "Saddles                 20373\n",
      "Shorts                 109434\n",
      "Socks                    8152\n",
      "Tights                  43043\n",
      "Tires and Tubes        153935\n",
      "Touring Bikes         3929460\n",
      "Touring Frames         405881\n",
      "Vests                   57162\n",
      "Wheels                 225081\n",
      "Name: Total vinst, dtype: int64\n"
     ]
    }
   ],
   "source": [
    "print(df_long1.sort_values(\"Total vinst\", ascending=False).head(10))\n",
    "my_plot = df_long1.groupby(['Produkt Kategori']) ['Total vinst'].sum()\n",
    "# my_plot = df_long1.groupby(['Produkt Kategori'])\n",
    "print(my_plot)\n",
    "# plt.plot(my_plot.head(5))\n",
    "# plt.show()"
   ]
  },
  {
   "cell_type": "code",
   "execution_count": 392,
   "id": "e3a6101d",
   "metadata": {},
   "outputs": [
    {
     "name": "stdout",
     "output_type": "stream",
     "text": [
      "   SaleThisYear  SaleLastYear  BetterThenLastYear            FullName\n",
      "0       1576562             0             1576562  Tete A Mensa-Annan\n",
      "1        559698             0              559698     Stephen Y Jiang\n",
      "2        519906             0              519906       Amy E Alberts\n",
      "3        172524             0              172524        Syed E Abbas\n"
     ]
    },
    {
     "data": {
      "image/png": "[encoded data removed]",
      "text/plain": [
       "<Figure size 700x300 with 1 Axes>"
      ]
     },
     "metadata": {},
     "output_type": "display_data"
    }
   ],
   "source": [
    "print(df_long3)\n",
    "plt.figure(figsize=(7,3))\n",
    "plt.bar(df_long3.FullName, df_long3.BetterThenLastYear)\n",
    "plt.show()"
   ]
  },
  {
   "cell_type": "code",
   "execution_count": null,
   "id": "358deb96",
   "metadata": {},
   "outputs": [],
   "source": []
  },
  {
   "cell_type": "code",
   "execution_count": null,
   "id": "4c81a70a",
   "metadata": {},
   "outputs": [],
   "source": []
  }
 ],
 "metadata": {
  "kernelspec": {
   "display_name": "Python 3 (ipykernel)",
   "language": "python",
   "name": "python3"
  },
  "language_info": {
   "codemirror_mode": {
    "name": "ipython",
    "version": 3
   },
   "file_extension": ".py",
   "mimetype": "text/x-python",
   "name": "python",
   "nbconvert_exporter": "python",
   "pygments_lexer": "ipython3",
   "version": "3.9.18"
  }
 },
 "nbformat": 4,
 "nbformat_minor": 5
}
